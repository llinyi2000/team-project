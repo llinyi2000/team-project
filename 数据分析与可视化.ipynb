{
 "cells": [
  {
   "cell_type": "code",
   "execution_count": 1,
   "metadata": {},
   "outputs": [
    {
     "name": "stderr",
     "output_type": "stream",
     "text": [
      "D:\\ANACONDA\\lib\\site-packages\\sklearn\\externals\\six.py:31: FutureWarning: The module is deprecated in version 0.21 and will be removed in version 0.23 since we've dropped support for Python 2.7. Please rely on the official version of six (https://pypi.org/project/six/).\n",
      "  \"(https://pypi.org/project/six/).\", FutureWarning)\n",
      "D:\\ANACONDA\\lib\\site-packages\\sklearn\\externals\\joblib\\__init__.py:15: FutureWarning: sklearn.externals.joblib is deprecated in 0.21 and will be removed in 0.23. Please import this functionality directly from joblib, which can be installed with: pip install joblib. If this warning is raised when loading pickled models, you may need to re-serialize those models with scikit-learn 0.21+.\n",
      "  warnings.warn(msg, category=FutureWarning)\n"
     ]
    }
   ],
   "source": [
    "import pandas as pd \n",
    "import matplotlib.pyplot as plt\n",
    "import mglearn\n",
    "from sklearn.neighbors import KNeighborsClassifier\n",
    "from sklearn.model_selection import train_test_split\n",
    "from sklearn.datasets import make_blobs\n",
    "from sklearn.linear_model import LogisticRegression\n",
    "from sklearn.svm import LinearSVC\n",
    "import numpy as np\n",
    "data =pd.read_csv('C:\\chicago_crimes_2012_to_2017.csv',encoding='utf-8',error_bad_lines=False)"
   ]
  },
  {
   "cell_type": "code",
   "execution_count": 2,
   "metadata": {},
   "outputs": [],
   "source": [
    "dp=pd.DataFrame(data)"
   ]
  },
  {
   "cell_type": "code",
   "execution_count": 3,
   "metadata": {},
   "outputs": [
    {
     "data": {
      "text/html": [
       "<div>\n",
       "<style scoped>\n",
       "    .dataframe tbody tr th:only-of-type {\n",
       "        vertical-align: middle;\n",
       "    }\n",
       "\n",
       "    .dataframe tbody tr th {\n",
       "        vertical-align: top;\n",
       "    }\n",
       "\n",
       "    .dataframe thead th {\n",
       "        text-align: right;\n",
       "    }\n",
       "</style>\n",
       "<table border=\"1\" class=\"dataframe\">\n",
       "  <thead>\n",
       "    <tr style=\"text-align: right;\">\n",
       "      <th></th>\n",
       "      <th>Unnamed: 0</th>\n",
       "      <th>ID</th>\n",
       "      <th>Case Number</th>\n",
       "      <th>Date</th>\n",
       "      <th>Block</th>\n",
       "      <th>IUCR</th>\n",
       "      <th>Primary Type</th>\n",
       "      <th>Description</th>\n",
       "      <th>Location Description</th>\n",
       "      <th>Arrest</th>\n",
       "      <th>...</th>\n",
       "      <th>Ward</th>\n",
       "      <th>Community Area</th>\n",
       "      <th>FBI Code</th>\n",
       "      <th>X Coordinate</th>\n",
       "      <th>Y Coordinate</th>\n",
       "      <th>Year</th>\n",
       "      <th>Updated On</th>\n",
       "      <th>Latitude</th>\n",
       "      <th>Longitude</th>\n",
       "      <th>Location</th>\n",
       "    </tr>\n",
       "  </thead>\n",
       "  <tbody>\n",
       "    <tr>\n",
       "      <th>0</th>\n",
       "      <td>3</td>\n",
       "      <td>10508693</td>\n",
       "      <td>HZ250496</td>\n",
       "      <td>05/03/2016 11:40:00 PM</td>\n",
       "      <td>013XX S SAWYER AVE</td>\n",
       "      <td>486</td>\n",
       "      <td>BATTERY</td>\n",
       "      <td>DOMESTIC BATTERY SIMPLE</td>\n",
       "      <td>APARTMENT</td>\n",
       "      <td>True</td>\n",
       "      <td>...</td>\n",
       "      <td>24.0</td>\n",
       "      <td>29.0</td>\n",
       "      <td>08B</td>\n",
       "      <td>1154907.0</td>\n",
       "      <td>1893681.0</td>\n",
       "      <td>2016</td>\n",
       "      <td>05/10/2016 03:56:50 PM</td>\n",
       "      <td>41.864073</td>\n",
       "      <td>-87.706819</td>\n",
       "      <td>(41.864073157, -87.706818608)</td>\n",
       "    </tr>\n",
       "    <tr>\n",
       "      <th>1</th>\n",
       "      <td>89</td>\n",
       "      <td>10508695</td>\n",
       "      <td>HZ250409</td>\n",
       "      <td>05/03/2016 09:40:00 PM</td>\n",
       "      <td>061XX S DREXEL AVE</td>\n",
       "      <td>486</td>\n",
       "      <td>BATTERY</td>\n",
       "      <td>DOMESTIC BATTERY SIMPLE</td>\n",
       "      <td>RESIDENCE</td>\n",
       "      <td>False</td>\n",
       "      <td>...</td>\n",
       "      <td>20.0</td>\n",
       "      <td>42.0</td>\n",
       "      <td>08B</td>\n",
       "      <td>1183066.0</td>\n",
       "      <td>1864330.0</td>\n",
       "      <td>2016</td>\n",
       "      <td>05/10/2016 03:56:50 PM</td>\n",
       "      <td>41.782922</td>\n",
       "      <td>-87.604363</td>\n",
       "      <td>(41.782921527, -87.60436317)</td>\n",
       "    </tr>\n",
       "    <tr>\n",
       "      <th>2</th>\n",
       "      <td>197</td>\n",
       "      <td>10508697</td>\n",
       "      <td>HZ250503</td>\n",
       "      <td>05/03/2016 11:31:00 PM</td>\n",
       "      <td>053XX W CHICAGO AVE</td>\n",
       "      <td>470</td>\n",
       "      <td>PUBLIC PEACE VIOLATION</td>\n",
       "      <td>RECKLESS CONDUCT</td>\n",
       "      <td>STREET</td>\n",
       "      <td>False</td>\n",
       "      <td>...</td>\n",
       "      <td>37.0</td>\n",
       "      <td>25.0</td>\n",
       "      <td>24</td>\n",
       "      <td>1140789.0</td>\n",
       "      <td>1904819.0</td>\n",
       "      <td>2016</td>\n",
       "      <td>05/10/2016 03:56:50 PM</td>\n",
       "      <td>41.894908</td>\n",
       "      <td>-87.758372</td>\n",
       "      <td>(41.894908283, -87.758371958)</td>\n",
       "    </tr>\n",
       "    <tr>\n",
       "      <th>3</th>\n",
       "      <td>673</td>\n",
       "      <td>10508698</td>\n",
       "      <td>HZ250424</td>\n",
       "      <td>05/03/2016 10:10:00 PM</td>\n",
       "      <td>049XX W FULTON ST</td>\n",
       "      <td>460</td>\n",
       "      <td>BATTERY</td>\n",
       "      <td>SIMPLE</td>\n",
       "      <td>SIDEWALK</td>\n",
       "      <td>False</td>\n",
       "      <td>...</td>\n",
       "      <td>28.0</td>\n",
       "      <td>25.0</td>\n",
       "      <td>08B</td>\n",
       "      <td>1143223.0</td>\n",
       "      <td>1901475.0</td>\n",
       "      <td>2016</td>\n",
       "      <td>05/10/2016 03:56:50 PM</td>\n",
       "      <td>41.885687</td>\n",
       "      <td>-87.749516</td>\n",
       "      <td>(41.885686845, -87.749515983)</td>\n",
       "    </tr>\n",
       "    <tr>\n",
       "      <th>4</th>\n",
       "      <td>911</td>\n",
       "      <td>10508699</td>\n",
       "      <td>HZ250455</td>\n",
       "      <td>05/03/2016 10:00:00 PM</td>\n",
       "      <td>003XX N LOTUS AVE</td>\n",
       "      <td>820</td>\n",
       "      <td>THEFT</td>\n",
       "      <td>$500 AND UNDER</td>\n",
       "      <td>RESIDENCE</td>\n",
       "      <td>False</td>\n",
       "      <td>...</td>\n",
       "      <td>28.0</td>\n",
       "      <td>25.0</td>\n",
       "      <td>6</td>\n",
       "      <td>1139890.0</td>\n",
       "      <td>1901675.0</td>\n",
       "      <td>2016</td>\n",
       "      <td>05/10/2016 03:56:50 PM</td>\n",
       "      <td>41.886297</td>\n",
       "      <td>-87.761751</td>\n",
       "      <td>(41.886297242, -87.761750709)</td>\n",
       "    </tr>\n",
       "    <tr>\n",
       "      <th>...</th>\n",
       "      <td>...</td>\n",
       "      <td>...</td>\n",
       "      <td>...</td>\n",
       "      <td>...</td>\n",
       "      <td>...</td>\n",
       "      <td>...</td>\n",
       "      <td>...</td>\n",
       "      <td>...</td>\n",
       "      <td>...</td>\n",
       "      <td>...</td>\n",
       "      <td>...</td>\n",
       "      <td>...</td>\n",
       "      <td>...</td>\n",
       "      <td>...</td>\n",
       "      <td>...</td>\n",
       "      <td>...</td>\n",
       "      <td>...</td>\n",
       "      <td>...</td>\n",
       "      <td>...</td>\n",
       "      <td>...</td>\n",
       "      <td>...</td>\n",
       "    </tr>\n",
       "    <tr>\n",
       "      <th>1048570</th>\n",
       "      <td>3384640</td>\n",
       "      <td>10111143</td>\n",
       "      <td>HY299674</td>\n",
       "      <td>06/13/2015 04:12:00 PM</td>\n",
       "      <td>036XX W GRENSHAW ST</td>\n",
       "      <td>1310</td>\n",
       "      <td>CRIMINAL DAMAGE</td>\n",
       "      <td>TO PROPERTY</td>\n",
       "      <td>APARTMENT</td>\n",
       "      <td>False</td>\n",
       "      <td>...</td>\n",
       "      <td>24.0</td>\n",
       "      <td>29.0</td>\n",
       "      <td>14</td>\n",
       "      <td>1152278.0</td>\n",
       "      <td>1894797.0</td>\n",
       "      <td>2015</td>\n",
       "      <td>08/17/2015 03:03:40 PM</td>\n",
       "      <td>41.867188</td>\n",
       "      <td>-87.716440</td>\n",
       "      <td>(41.86718783, -87.71644019)</td>\n",
       "    </tr>\n",
       "    <tr>\n",
       "      <th>1048571</th>\n",
       "      <td>3384641</td>\n",
       "      <td>10111144</td>\n",
       "      <td>HY300084</td>\n",
       "      <td>06/13/2015 09:30:00 PM</td>\n",
       "      <td>014XX S MUSEUM CAMPUS DR</td>\n",
       "      <td>870</td>\n",
       "      <td>THEFT</td>\n",
       "      <td>POCKET-PICKING</td>\n",
       "      <td>STREET</td>\n",
       "      <td>False</td>\n",
       "      <td>...</td>\n",
       "      <td>2.0</td>\n",
       "      <td>33.0</td>\n",
       "      <td>6</td>\n",
       "      <td>1179970.0</td>\n",
       "      <td>1893558.0</td>\n",
       "      <td>2015</td>\n",
       "      <td>08/17/2015 03:03:40 PM</td>\n",
       "      <td>41.863197</td>\n",
       "      <td>-87.614818</td>\n",
       "      <td>(41.863196881, -87.614817819)</td>\n",
       "    </tr>\n",
       "    <tr>\n",
       "      <th>1048572</th>\n",
       "      <td>3384642</td>\n",
       "      <td>10111146</td>\n",
       "      <td>HY300059</td>\n",
       "      <td>06/13/2015 09:40:00 PM</td>\n",
       "      <td>023XX W LAWRENCE AVE</td>\n",
       "      <td>460</td>\n",
       "      <td>BATTERY</td>\n",
       "      <td>SIMPLE</td>\n",
       "      <td>SIDEWALK</td>\n",
       "      <td>True</td>\n",
       "      <td>...</td>\n",
       "      <td>47.0</td>\n",
       "      <td>4.0</td>\n",
       "      <td>08B</td>\n",
       "      <td>1159650.0</td>\n",
       "      <td>1931817.0</td>\n",
       "      <td>2015</td>\n",
       "      <td>08/17/2015 03:03:40 PM</td>\n",
       "      <td>41.968625</td>\n",
       "      <td>-87.688354</td>\n",
       "      <td>(41.96862488, -87.688354349)</td>\n",
       "    </tr>\n",
       "    <tr>\n",
       "      <th>1048573</th>\n",
       "      <td>3384643</td>\n",
       "      <td>10111147</td>\n",
       "      <td>HY299981</td>\n",
       "      <td>06/13/2015 08:40:00 PM</td>\n",
       "      <td>051XX W THOMAS ST</td>\n",
       "      <td>313</td>\n",
       "      <td>ROBBERY</td>\n",
       "      <td>ARMED: OTHER DANGEROUS WEAPON</td>\n",
       "      <td>SIDEWALK</td>\n",
       "      <td>False</td>\n",
       "      <td>...</td>\n",
       "      <td>37.0</td>\n",
       "      <td>25.0</td>\n",
       "      <td>3</td>\n",
       "      <td>1141687.0</td>\n",
       "      <td>1906835.0</td>\n",
       "      <td>2015</td>\n",
       "      <td>08/17/2015 03:03:40 PM</td>\n",
       "      <td>41.900424</td>\n",
       "      <td>-87.755024</td>\n",
       "      <td>(41.900423863, -87.755023892)</td>\n",
       "    </tr>\n",
       "    <tr>\n",
       "      <th>1048574</th>\n",
       "      <td>3384644</td>\n",
       "      <td>10111148</td>\n",
       "      <td>HY300058</td>\n",
       "      <td>06/13/2015 10:00:00 PM</td>\n",
       "      <td>004XX N CENTRAL PARK BLVD</td>\n",
       "      <td>460</td>\n",
       "      <td>BATTERY</td>\n",
       "      <td>SIMPLE</td>\n",
       "      <td>BRIDGE</td>\n",
       "      <td>False</td>\n",
       "      <td>...</td>\n",
       "      <td>27.0</td>\n",
       "      <td>23.0</td>\n",
       "      <td>08B</td>\n",
       "      <td>1152273.0</td>\n",
       "      <td>1902600.0</td>\n",
       "      <td>2015</td>\n",
       "      <td>08/17/2015 03:03:40 PM</td>\n",
       "      <td>41.888600</td>\n",
       "      <td>-87.716253</td>\n",
       "      <td>(41.888600199, -87.716252586)</td>\n",
       "    </tr>\n",
       "  </tbody>\n",
       "</table>\n",
       "<p>1048575 rows × 23 columns</p>\n",
       "</div>"
      ],
      "text/plain": [
       "         Unnamed: 0        ID Case Number                    Date  \\\n",
       "0                 3  10508693    HZ250496  05/03/2016 11:40:00 PM   \n",
       "1                89  10508695    HZ250409  05/03/2016 09:40:00 PM   \n",
       "2               197  10508697    HZ250503  05/03/2016 11:31:00 PM   \n",
       "3               673  10508698    HZ250424  05/03/2016 10:10:00 PM   \n",
       "4               911  10508699    HZ250455  05/03/2016 10:00:00 PM   \n",
       "...             ...       ...         ...                     ...   \n",
       "1048570     3384640  10111143    HY299674  06/13/2015 04:12:00 PM   \n",
       "1048571     3384641  10111144    HY300084  06/13/2015 09:30:00 PM   \n",
       "1048572     3384642  10111146    HY300059  06/13/2015 09:40:00 PM   \n",
       "1048573     3384643  10111147    HY299981  06/13/2015 08:40:00 PM   \n",
       "1048574     3384644  10111148    HY300058  06/13/2015 10:00:00 PM   \n",
       "\n",
       "                             Block  IUCR            Primary Type  \\\n",
       "0               013XX S SAWYER AVE   486                 BATTERY   \n",
       "1               061XX S DREXEL AVE   486                 BATTERY   \n",
       "2              053XX W CHICAGO AVE   470  PUBLIC PEACE VIOLATION   \n",
       "3                049XX W FULTON ST   460                 BATTERY   \n",
       "4                003XX N LOTUS AVE   820                   THEFT   \n",
       "...                            ...   ...                     ...   \n",
       "1048570        036XX W GRENSHAW ST  1310         CRIMINAL DAMAGE   \n",
       "1048571   014XX S MUSEUM CAMPUS DR   870                   THEFT   \n",
       "1048572       023XX W LAWRENCE AVE   460                 BATTERY   \n",
       "1048573          051XX W THOMAS ST   313                 ROBBERY   \n",
       "1048574  004XX N CENTRAL PARK BLVD   460                 BATTERY   \n",
       "\n",
       "                           Description Location Description  Arrest  ...  \\\n",
       "0              DOMESTIC BATTERY SIMPLE            APARTMENT    True  ...   \n",
       "1              DOMESTIC BATTERY SIMPLE            RESIDENCE   False  ...   \n",
       "2                     RECKLESS CONDUCT               STREET   False  ...   \n",
       "3                               SIMPLE             SIDEWALK   False  ...   \n",
       "4                       $500 AND UNDER            RESIDENCE   False  ...   \n",
       "...                                ...                  ...     ...  ...   \n",
       "1048570                    TO PROPERTY            APARTMENT   False  ...   \n",
       "1048571                 POCKET-PICKING               STREET   False  ...   \n",
       "1048572                         SIMPLE             SIDEWALK    True  ...   \n",
       "1048573  ARMED: OTHER DANGEROUS WEAPON             SIDEWALK   False  ...   \n",
       "1048574                         SIMPLE               BRIDGE   False  ...   \n",
       "\n",
       "         Ward  Community Area  FBI Code  X Coordinate  Y Coordinate  Year  \\\n",
       "0        24.0            29.0       08B     1154907.0     1893681.0  2016   \n",
       "1        20.0            42.0       08B     1183066.0     1864330.0  2016   \n",
       "2        37.0            25.0        24     1140789.0     1904819.0  2016   \n",
       "3        28.0            25.0       08B     1143223.0     1901475.0  2016   \n",
       "4        28.0            25.0         6     1139890.0     1901675.0  2016   \n",
       "...       ...             ...       ...           ...           ...   ...   \n",
       "1048570  24.0            29.0        14     1152278.0     1894797.0  2015   \n",
       "1048571   2.0            33.0         6     1179970.0     1893558.0  2015   \n",
       "1048572  47.0             4.0       08B     1159650.0     1931817.0  2015   \n",
       "1048573  37.0            25.0         3     1141687.0     1906835.0  2015   \n",
       "1048574  27.0            23.0       08B     1152273.0     1902600.0  2015   \n",
       "\n",
       "                     Updated On   Latitude  Longitude  \\\n",
       "0        05/10/2016 03:56:50 PM  41.864073 -87.706819   \n",
       "1        05/10/2016 03:56:50 PM  41.782922 -87.604363   \n",
       "2        05/10/2016 03:56:50 PM  41.894908 -87.758372   \n",
       "3        05/10/2016 03:56:50 PM  41.885687 -87.749516   \n",
       "4        05/10/2016 03:56:50 PM  41.886297 -87.761751   \n",
       "...                         ...        ...        ...   \n",
       "1048570  08/17/2015 03:03:40 PM  41.867188 -87.716440   \n",
       "1048571  08/17/2015 03:03:40 PM  41.863197 -87.614818   \n",
       "1048572  08/17/2015 03:03:40 PM  41.968625 -87.688354   \n",
       "1048573  08/17/2015 03:03:40 PM  41.900424 -87.755024   \n",
       "1048574  08/17/2015 03:03:40 PM  41.888600 -87.716253   \n",
       "\n",
       "                              Location  \n",
       "0        (41.864073157, -87.706818608)  \n",
       "1         (41.782921527, -87.60436317)  \n",
       "2        (41.894908283, -87.758371958)  \n",
       "3        (41.885686845, -87.749515983)  \n",
       "4        (41.886297242, -87.761750709)  \n",
       "...                                ...  \n",
       "1048570    (41.86718783, -87.71644019)  \n",
       "1048571  (41.863196881, -87.614817819)  \n",
       "1048572   (41.96862488, -87.688354349)  \n",
       "1048573  (41.900423863, -87.755023892)  \n",
       "1048574  (41.888600199, -87.716252586)  \n",
       "\n",
       "[1048575 rows x 23 columns]"
      ]
     },
     "metadata": {},
     "output_type": "display_data"
    }
   ],
   "source": [
    "display(dp)"
   ]
  },
  {
   "cell_type": "code",
   "execution_count": 4,
   "metadata": {},
   "outputs": [],
   "source": [
    "#从表格中我们看出，犯罪类型特别的多，接下来我们可视化一下数据，看一下各种犯罪类型的分布情况。"
   ]
  },
  {
   "cell_type": "code",
   "execution_count": 5,
   "metadata": {},
   "outputs": [
    {
     "data": {
      "text/plain": [
       "THEFT                                236724\n",
       "BATTERY                              188826\n",
       "NARCOTICS                            110781\n",
       "CRIMINAL DAMAGE                      109031\n",
       "ASSAULT                               64049\n",
       "OTHER OFFENSE                         61711\n",
       "BURGLARY                              61458\n",
       "DECEPTIVE PRACTICE                    48697\n",
       "MOTOR VEHICLE THEFT                   43981\n",
       "ROBBERY                               39737\n",
       "CRIMINAL TRESPASS                     27523\n",
       "WEAPONS VIOLATION                     12112\n",
       "PUBLIC PEACE VIOLATION                10313\n",
       "OFFENSE INVOLVING CHILDREN             7852\n",
       "PROSTITUTION                           6324\n",
       "INTERFERENCE WITH PUBLIC OFFICER       4577\n",
       "CRIM SEXUAL ASSAULT                    4449\n",
       "SEX OFFENSE                            3330\n",
       "GAMBLING                               1853\n",
       "LIQUOR LAW VIOLATION                   1593\n",
       "ARSON                                  1459\n",
       "KIDNAPPING                              795\n",
       "STALKING                                582\n",
       "INTIMIDATION                            470\n",
       "OBSCENITY                               110\n",
       "HOMICIDE                                 78\n",
       "PUBLIC INDECENCY                         45\n",
       "NON-CRIMINAL                             30\n",
       "CONCEALED CARRY LICENSE VIOLATION        30\n",
       "OTHER NARCOTIC VIOLATION                 24\n",
       "NON - CRIMINAL                           20\n",
       "HUMAN TRAFFICKING                         8\n",
       "NON-CRIMINAL (SUBJECT SPECIFIED)          3\n",
       "Name: Primary Type, dtype: int64"
      ]
     },
     "execution_count": 5,
     "metadata": {},
     "output_type": "execute_result"
    }
   ],
   "source": [
    "data[\"Primary Type\"].value_counts()"
   ]
  },
  {
   "cell_type": "code",
   "execution_count": 6,
   "metadata": {},
   "outputs": [],
   "source": [
    "#再画出条形图便于观察哪类犯罪数量最多"
   ]
  },
  {
   "cell_type": "code",
   "execution_count": 7,
   "metadata": {},
   "outputs": [
    {
     "data": {
      "text/plain": [
       "<matplotlib.axes._subplots.AxesSubplot at 0x1d8376a8348>"
      ]
     },
     "execution_count": 7,
     "metadata": {},
     "output_type": "execute_result"
    },
    {
     "data": {
      "image/png": "[encoded data removed]",
      "text/plain": [
       "<Figure size 432x288 with 1 Axes>"
      ]
     },
     "metadata": {
      "needs_background": "light"
     },
     "output_type": "display_data"
    }
   ],
   "source": [
    "data[\"Primary Type\"].value_counts().plot(kind='barh')"
   ]
  },
  {
   "cell_type": "code",
   "execution_count": 8,
   "metadata": {},
   "outputs": [],
   "source": [
    "#这里我们可以看出犯罪率最高的几种和犯罪率最低的几种分别是哪些类型。但是这些数据我们只是看到了哪些犯罪的类型多，好做出一些措施，但是不能为政府和公安机关等部门做出很好的预警效果。接下来打算利用热力地图的方式来做犯罪预警。"
   ]
  },
  {
   "cell_type": "code",
   "execution_count": 9,
   "metadata": {},
   "outputs": [
    {
     "data": {
      "text/plain": [
       "2012    334715\n",
       "2013    305738\n",
       "2014    273222\n",
       "2015    109685\n",
       "2016     25215\n",
       "Name: Year, dtype: int64"
      ]
     },
     "execution_count": 9,
     "metadata": {},
     "output_type": "execute_result"
    }
   ],
   "source": [
    "data['Year'].value_counts()"
   ]
  },
  {
   "cell_type": "code",
   "execution_count": 10,
   "metadata": {},
   "outputs": [],
   "source": [
    "#以年份为检索出每年的总共的案件数量"
   ]
  },
  {
   "cell_type": "code",
   "execution_count": 11,
   "metadata": {},
   "outputs": [],
   "source": [
    "#从上面画的条形图可以看出THEFT盗窃案件最多，下面我们利用THEFT犯罪类型来做预警展示。"
   ]
  },
  {
   "cell_type": "code",
   "execution_count": 12,
   "metadata": {},
   "outputs": [],
   "source": [
    "Theft=data.loc[data[\"Primary Type\"]==\"THEFT\"]"
   ]
  },
  {
   "cell_type": "code",
   "execution_count": 13,
   "metadata": {},
   "outputs": [
    {
     "data": {
      "text/html": [
       "<div>\n",
       "<style scoped>\n",
       "    .dataframe tbody tr th:only-of-type {\n",
       "        vertical-align: middle;\n",
       "    }\n",
       "\n",
       "    .dataframe tbody tr th {\n",
       "        vertical-align: top;\n",
       "    }\n",
       "\n",
       "    .dataframe thead th {\n",
       "        text-align: right;\n",
       "    }\n",
       "</style>\n",
       "<table border=\"1\" class=\"dataframe\">\n",
       "  <thead>\n",
       "    <tr style=\"text-align: right;\">\n",
       "      <th></th>\n",
       "      <th>Unnamed: 0</th>\n",
       "      <th>ID</th>\n",
       "      <th>Case Number</th>\n",
       "      <th>Date</th>\n",
       "      <th>Block</th>\n",
       "      <th>IUCR</th>\n",
       "      <th>Primary Type</th>\n",
       "      <th>Description</th>\n",
       "      <th>Location Description</th>\n",
       "      <th>Arrest</th>\n",
       "      <th>...</th>\n",
       "      <th>Ward</th>\n",
       "      <th>Community Area</th>\n",
       "      <th>FBI Code</th>\n",
       "      <th>X Coordinate</th>\n",
       "      <th>Y Coordinate</th>\n",
       "      <th>Year</th>\n",
       "      <th>Updated On</th>\n",
       "      <th>Latitude</th>\n",
       "      <th>Longitude</th>\n",
       "      <th>Location</th>\n",
       "    </tr>\n",
       "  </thead>\n",
       "  <tbody>\n",
       "    <tr>\n",
       "      <th>4</th>\n",
       "      <td>911</td>\n",
       "      <td>10508699</td>\n",
       "      <td>HZ250455</td>\n",
       "      <td>05/03/2016 10:00:00 PM</td>\n",
       "      <td>003XX N LOTUS AVE</td>\n",
       "      <td>820</td>\n",
       "      <td>THEFT</td>\n",
       "      <td>$500 AND UNDER</td>\n",
       "      <td>RESIDENCE</td>\n",
       "      <td>False</td>\n",
       "      <td>...</td>\n",
       "      <td>28.0</td>\n",
       "      <td>25.0</td>\n",
       "      <td>6</td>\n",
       "      <td>1139890.0</td>\n",
       "      <td>1901675.0</td>\n",
       "      <td>2016</td>\n",
       "      <td>05/10/2016 03:56:50 PM</td>\n",
       "      <td>41.886297</td>\n",
       "      <td>-87.761751</td>\n",
       "      <td>(41.886297242, -87.761750709)</td>\n",
       "    </tr>\n",
       "    <tr>\n",
       "      <th>12</th>\n",
       "      <td>2193</td>\n",
       "      <td>10508717</td>\n",
       "      <td>HZ250415</td>\n",
       "      <td>05/03/2016 05:30:00 PM</td>\n",
       "      <td>011XX W JACKSON BLVD</td>\n",
       "      <td>890</td>\n",
       "      <td>THEFT</td>\n",
       "      <td>FROM BUILDING</td>\n",
       "      <td>OTHER</td>\n",
       "      <td>False</td>\n",
       "      <td>...</td>\n",
       "      <td>2.0</td>\n",
       "      <td>28.0</td>\n",
       "      <td>6</td>\n",
       "      <td>1168776.0</td>\n",
       "      <td>1898793.0</td>\n",
       "      <td>2016</td>\n",
       "      <td>05/10/2016 03:56:50 PM</td>\n",
       "      <td>41.877812</td>\n",
       "      <td>-87.655758</td>\n",
       "      <td>(41.877811861, -87.655758012)</td>\n",
       "    </tr>\n",
       "    <tr>\n",
       "      <th>13</th>\n",
       "      <td>2279</td>\n",
       "      <td>10508724</td>\n",
       "      <td>HZ250513</td>\n",
       "      <td>05/03/2016 09:00:00 AM</td>\n",
       "      <td>028XX S DR MARTIN LUTHER KING JR DR</td>\n",
       "      <td>820</td>\n",
       "      <td>THEFT</td>\n",
       "      <td>$500 AND UNDER</td>\n",
       "      <td>STREET</td>\n",
       "      <td>False</td>\n",
       "      <td>...</td>\n",
       "      <td>4.0</td>\n",
       "      <td>35.0</td>\n",
       "      <td>6</td>\n",
       "      <td>1179375.0</td>\n",
       "      <td>1886199.0</td>\n",
       "      <td>2016</td>\n",
       "      <td>05/10/2016 03:56:50 PM</td>\n",
       "      <td>41.843017</td>\n",
       "      <td>-87.617227</td>\n",
       "      <td>(41.843016958, -87.61722727)</td>\n",
       "    </tr>\n",
       "    <tr>\n",
       "      <th>14</th>\n",
       "      <td>2477</td>\n",
       "      <td>10508728</td>\n",
       "      <td>HZ250505</td>\n",
       "      <td>05/03/2016 10:08:00 PM</td>\n",
       "      <td>016XX N CLAREMONT AVE</td>\n",
       "      <td>810</td>\n",
       "      <td>THEFT</td>\n",
       "      <td>OVER $500</td>\n",
       "      <td>STREET</td>\n",
       "      <td>False</td>\n",
       "      <td>...</td>\n",
       "      <td>1.0</td>\n",
       "      <td>24.0</td>\n",
       "      <td>6</td>\n",
       "      <td>1160444.0</td>\n",
       "      <td>1910787.0</td>\n",
       "      <td>2016</td>\n",
       "      <td>05/10/2016 03:56:50 PM</td>\n",
       "      <td>41.910901</td>\n",
       "      <td>-87.686019</td>\n",
       "      <td>(41.910900826, -87.686018747)</td>\n",
       "    </tr>\n",
       "    <tr>\n",
       "      <th>16</th>\n",
       "      <td>3023</td>\n",
       "      <td>10508738</td>\n",
       "      <td>HZ250440</td>\n",
       "      <td>05/03/2016 09:45:00 PM</td>\n",
       "      <td>020XX W LE MOYNE ST</td>\n",
       "      <td>810</td>\n",
       "      <td>THEFT</td>\n",
       "      <td>OVER $500</td>\n",
       "      <td>STREET</td>\n",
       "      <td>False</td>\n",
       "      <td>...</td>\n",
       "      <td>1.0</td>\n",
       "      <td>24.0</td>\n",
       "      <td>6</td>\n",
       "      <td>1162515.0</td>\n",
       "      <td>1909832.0</td>\n",
       "      <td>2016</td>\n",
       "      <td>05/10/2016 03:56:50 PM</td>\n",
       "      <td>41.908237</td>\n",
       "      <td>-87.678437</td>\n",
       "      <td>(41.908237096, -87.678437417)</td>\n",
       "    </tr>\n",
       "  </tbody>\n",
       "</table>\n",
       "<p>5 rows × 23 columns</p>\n",
       "</div>"
      ],
      "text/plain": [
       "    Unnamed: 0        ID Case Number                    Date  \\\n",
       "4          911  10508699    HZ250455  05/03/2016 10:00:00 PM   \n",
       "12        2193  10508717    HZ250415  05/03/2016 05:30:00 PM   \n",
       "13        2279  10508724    HZ250513  05/03/2016 09:00:00 AM   \n",
       "14        2477  10508728    HZ250505  05/03/2016 10:08:00 PM   \n",
       "16        3023  10508738    HZ250440  05/03/2016 09:45:00 PM   \n",
       "\n",
       "                                  Block IUCR Primary Type     Description  \\\n",
       "4                     003XX N LOTUS AVE  820        THEFT  $500 AND UNDER   \n",
       "12                 011XX W JACKSON BLVD  890        THEFT   FROM BUILDING   \n",
       "13  028XX S DR MARTIN LUTHER KING JR DR  820        THEFT  $500 AND UNDER   \n",
       "14                016XX N CLAREMONT AVE  810        THEFT       OVER $500   \n",
       "16                  020XX W LE MOYNE ST  810        THEFT       OVER $500   \n",
       "\n",
       "   Location Description  Arrest  ...  Ward  Community Area  FBI Code  \\\n",
       "4             RESIDENCE   False  ...  28.0            25.0         6   \n",
       "12                OTHER   False  ...   2.0            28.0         6   \n",
       "13               STREET   False  ...   4.0            35.0         6   \n",
       "14               STREET   False  ...   1.0            24.0         6   \n",
       "16               STREET   False  ...   1.0            24.0         6   \n",
       "\n",
       "    X Coordinate  Y Coordinate  Year              Updated On   Latitude  \\\n",
       "4      1139890.0     1901675.0  2016  05/10/2016 03:56:50 PM  41.886297   \n",
       "12     1168776.0     1898793.0  2016  05/10/2016 03:56:50 PM  41.877812   \n",
       "13     1179375.0     1886199.0  2016  05/10/2016 03:56:50 PM  41.843017   \n",
       "14     1160444.0     1910787.0  2016  05/10/2016 03:56:50 PM  41.910901   \n",
       "16     1162515.0     1909832.0  2016  05/10/2016 03:56:50 PM  41.908237   \n",
       "\n",
       "    Longitude                       Location  \n",
       "4  -87.761751  (41.886297242, -87.761750709)  \n",
       "12 -87.655758  (41.877811861, -87.655758012)  \n",
       "13 -87.617227   (41.843016958, -87.61722727)  \n",
       "14 -87.686019  (41.910900826, -87.686018747)  \n",
       "16 -87.678437  (41.908237096, -87.678437417)  \n",
       "\n",
       "[5 rows x 23 columns]"
      ]
     },
     "execution_count": 13,
     "metadata": {},
     "output_type": "execute_result"
    }
   ],
   "source": [
    "Theft.head()"
   ]
  },
  {
   "cell_type": "code",
   "execution_count": 14,
   "metadata": {},
   "outputs": [],
   "source": [
    "#现在都变成了Theft的犯罪类型了。接下来我们对Theft犯罪类型做一些深度的挖掘分析。"
   ]
  },
  {
   "cell_type": "code",
   "execution_count": 15,
   "metadata": {},
   "outputs": [
    {
     "data": {
      "text/plain": [
       "$500 AND UNDER                      98566\n",
       "OVER $500                           52699\n",
       "FROM BUILDING                       33862\n",
       "RETAIL THEFT                        29786\n",
       "POCKET-PICKING                       7129\n",
       "FINANCIAL ID THEFT: OVER $300        6769\n",
       "PURSE-SNATCHING                      2828\n",
       "FINANCIAL ID THEFT:$300 &UNDER       2141\n",
       "ATTEMPT THEFT                        1663\n",
       "ATTEMPT FINANCIAL IDENTITY THEFT      737\n",
       "AGG: FINANCIAL ID THEFT               294\n",
       "DELIVERY CONTAINER THEFT              131\n",
       "FROM COIN-OP MACHINE/DEVICE           119\n",
       "Name: Description, dtype: int64"
      ]
     },
     "execution_count": 15,
     "metadata": {},
     "output_type": "execute_result"
    }
   ],
   "source": [
    "#看一下是什么原因造成的偷窃犯罪\n",
    "Theft[\"Description\"].value_counts()"
   ]
  },
  {
   "cell_type": "code",
   "execution_count": 16,
   "metadata": {},
   "outputs": [
    {
     "data": {
      "image/png": "[encoded data removed]",
      "text/plain": [
       "<Figure size 1800x720 with 1 Axes>"
      ]
     },
     "metadata": {
      "needs_background": "light"
     },
     "output_type": "display_data"
    }
   ],
   "source": [
    "\n",
    "data1=list(Theft[\"Description\"])\n",
    "\n",
    "plt.figure(figsize=(25,10))\n",
    "\n",
    "plt.hist(data1,bins=15,color=\"purple\")\n",
    "\n",
    "plt.xlabel(\"Description of crime\",fontsize=15)\n",
    "\n",
    "plt.ylabel(\"Number of times\",fontsize=15)\n",
    "\n",
    "plt.title(\"Distribution\",fontsize=18)\n",
    "\n",
    "plt.show()\n"
   ]
  },
  {
   "cell_type": "code",
   "execution_count": 17,
   "metadata": {},
   "outputs": [],
   "source": [
    "#这样很明显看到，犯罪描述大部分是“$500 AND UNDER”。"
   ]
  },
  {
   "cell_type": "code",
   "execution_count": 18,
   "metadata": {},
   "outputs": [],
   "source": [
    "#下一步，我们尝试把分析的粒度做得更加细致——研究一下，哪些街区比较危险"
   ]
  },
  {
   "cell_type": "code",
   "execution_count": 19,
   "metadata": {},
   "outputs": [],
   "source": [
    "data2=Theft[\"Block\"].value_counts()"
   ]
  },
  {
   "cell_type": "code",
   "execution_count": 20,
   "metadata": {},
   "outputs": [
    {
     "name": "stdout",
     "output_type": "stream",
     "text": [
      "001XX N STATE ST            1663\n",
      "008XX N MICHIGAN AVE        1443\n",
      "076XX S CICERO AVE          1337\n",
      "0000X N STATE ST            1139\n",
      "046XX W NORTH AVE            733\n",
      "                            ... \n",
      "012XX E 50TH ST                1\n",
      "059XX S NARRAGANSETT AVE       1\n",
      "045XX W HOMER ST               1\n",
      "107XX S DREW ST                1\n",
      "028XX S ELLIS AVE              1\n",
      "Name: Block, Length: 26741, dtype: int64\n"
     ]
    }
   ],
   "source": [
    "print(data2)"
   ]
  },
  {
   "cell_type": "code",
   "execution_count": 21,
   "metadata": {},
   "outputs": [],
   "source": [
    "#可以看出001XX N STATE ST街区发生盗窃的案件最多，案发率最高。"
   ]
  },
  {
   "cell_type": "code",
   "execution_count": 22,
   "metadata": {},
   "outputs": [
    {
     "data": {
      "text/plain": [
       "Location Description\n",
       "STREET                          56551\n",
       "RESIDENCE                       23979\n",
       "APARTMENT                       14652\n",
       "OTHER                           13496\n",
       "DEPARTMENT STORE                12030\n",
       "                                ...  \n",
       "CREDIT UNION                        8\n",
       "VEHICLE - OTHER RIDE SERVICE        7\n",
       "VEHICLE - DELIVERY TRUCK            6\n",
       "CTA TRACKS - RIGHT OF WAY           4\n",
       "HIGHWAY/EXPRESSWAY                  4\n",
       "Length: 101, dtype: int64"
      ]
     },
     "execution_count": 22,
     "metadata": {},
     "output_type": "execute_result"
    }
   ],
   "source": [
    "Theft.groupby('Location Description').size().sort_values(ascending=False)"
   ]
  },
  {
   "cell_type": "code",
   "execution_count": 23,
   "metadata": {},
   "outputs": [],
   "source": [
    "#根据结果显示，街道上偷窃次数最多，在高速公路发生的次数最少。"
   ]
  },
  {
   "cell_type": "code",
   "execution_count": 24,
   "metadata": {},
   "outputs": [
    {
     "name": "stdout",
     "output_type": "stream",
     "text": [
      "Requirement already satisfied: python-dateutil in d:\\anaconda\\lib\\site-packages (2.8.1)\n",
      "Requirement already satisfied: six>=1.5 in d:\\anaconda\\lib\\site-packages (from python-dateutil) (1.14.0)\n"
     ]
    }
   ],
   "source": [
    "!pip install python-dateutil"
   ]
  },
  {
   "cell_type": "code",
   "execution_count": 25,
   "metadata": {},
   "outputs": [],
   "source": [
    "from dateutil.parser import *"
   ]
  },
  {
   "cell_type": "code",
   "execution_count": 26,
   "metadata": {},
   "outputs": [
    {
     "name": "stderr",
     "output_type": "stream",
     "text": [
      "D:\\ANACONDA\\lib\\site-packages\\ipykernel_launcher.py:1: SettingWithCopyWarning: \n",
      "A value is trying to be set on a copy of a slice from a DataFrame.\n",
      "Try using .loc[row_indexer,col_indexer] = value instead\n",
      "\n",
      "See the caveats in the documentation: https://pandas.pydata.org/pandas-docs/stable/user_guide/indexing.html#returning-a-view-versus-a-copy\n",
      "  \"\"\"Entry point for launching an IPython kernel.\n"
     ]
    }
   ],
   "source": [
    "Theft[\"month\"] = Theft.Date.apply(lambda x: parse(x).month)"
   ]
  },
  {
   "cell_type": "code",
   "execution_count": 27,
   "metadata": {},
   "outputs": [
    {
     "name": "stderr",
     "output_type": "stream",
     "text": [
      "D:\\ANACONDA\\lib\\site-packages\\ipykernel_launcher.py:1: SettingWithCopyWarning: \n",
      "A value is trying to be set on a copy of a slice from a DataFrame.\n",
      "Try using .loc[row_indexer,col_indexer] = value instead\n",
      "\n",
      "See the caveats in the documentation: https://pandas.pydata.org/pandas-docs/stable/user_guide/indexing.html#returning-a-view-versus-a-copy\n",
      "  \"\"\"Entry point for launching an IPython kernel.\n"
     ]
    }
   ],
   "source": [
    "Theft[\"hour\"] = Theft.Date.apply(lambda x: parse(x).hour)"
   ]
  },
  {
   "cell_type": "code",
   "execution_count": 28,
   "metadata": {},
   "outputs": [
    {
     "name": "stderr",
     "output_type": "stream",
     "text": [
      "D:\\ANACONDA\\lib\\site-packages\\ipykernel_launcher.py:1: SettingWithCopyWarning: \n",
      "A value is trying to be set on a copy of a slice from a DataFrame.\n",
      "Try using .loc[row_indexer,col_indexer] = value instead\n",
      "\n",
      "See the caveats in the documentation: https://pandas.pydata.org/pandas-docs/stable/user_guide/indexing.html#returning-a-view-versus-a-copy\n",
      "  \"\"\"Entry point for launching an IPython kernel.\n"
     ]
    }
   ],
   "source": [
    "Theft[\"year\"] = Theft.Date.apply(lambda x: parse(x).year)\n"
   ]
  },
  {
   "cell_type": "code",
   "execution_count": 29,
   "metadata": {},
   "outputs": [
    {
     "data": {
      "text/html": [
       "<div>\n",
       "<style scoped>\n",
       "    .dataframe tbody tr th:only-of-type {\n",
       "        vertical-align: middle;\n",
       "    }\n",
       "\n",
       "    .dataframe tbody tr th {\n",
       "        vertical-align: top;\n",
       "    }\n",
       "\n",
       "    .dataframe thead th {\n",
       "        text-align: right;\n",
       "    }\n",
       "</style>\n",
       "<table border=\"1\" class=\"dataframe\">\n",
       "  <thead>\n",
       "    <tr style=\"text-align: right;\">\n",
       "      <th></th>\n",
       "      <th>Unnamed: 0</th>\n",
       "      <th>ID</th>\n",
       "      <th>Case Number</th>\n",
       "      <th>Date</th>\n",
       "      <th>Block</th>\n",
       "      <th>IUCR</th>\n",
       "      <th>Primary Type</th>\n",
       "      <th>Description</th>\n",
       "      <th>Location Description</th>\n",
       "      <th>Arrest</th>\n",
       "      <th>...</th>\n",
       "      <th>X Coordinate</th>\n",
       "      <th>Y Coordinate</th>\n",
       "      <th>Year</th>\n",
       "      <th>Updated On</th>\n",
       "      <th>Latitude</th>\n",
       "      <th>Longitude</th>\n",
       "      <th>Location</th>\n",
       "      <th>month</th>\n",
       "      <th>hour</th>\n",
       "      <th>year</th>\n",
       "    </tr>\n",
       "  </thead>\n",
       "  <tbody>\n",
       "    <tr>\n",
       "      <th>4</th>\n",
       "      <td>911</td>\n",
       "      <td>10508699</td>\n",
       "      <td>HZ250455</td>\n",
       "      <td>05/03/2016 10:00:00 PM</td>\n",
       "      <td>003XX N LOTUS AVE</td>\n",
       "      <td>820</td>\n",
       "      <td>THEFT</td>\n",
       "      <td>$500 AND UNDER</td>\n",
       "      <td>RESIDENCE</td>\n",
       "      <td>False</td>\n",
       "      <td>...</td>\n",
       "      <td>1139890.0</td>\n",
       "      <td>1901675.0</td>\n",
       "      <td>2016</td>\n",
       "      <td>05/10/2016 03:56:50 PM</td>\n",
       "      <td>41.886297</td>\n",
       "      <td>-87.761751</td>\n",
       "      <td>(41.886297242, -87.761750709)</td>\n",
       "      <td>5</td>\n",
       "      <td>22</td>\n",
       "      <td>2016</td>\n",
       "    </tr>\n",
       "    <tr>\n",
       "      <th>12</th>\n",
       "      <td>2193</td>\n",
       "      <td>10508717</td>\n",
       "      <td>HZ250415</td>\n",
       "      <td>05/03/2016 05:30:00 PM</td>\n",
       "      <td>011XX W JACKSON BLVD</td>\n",
       "      <td>890</td>\n",
       "      <td>THEFT</td>\n",
       "      <td>FROM BUILDING</td>\n",
       "      <td>OTHER</td>\n",
       "      <td>False</td>\n",
       "      <td>...</td>\n",
       "      <td>1168776.0</td>\n",
       "      <td>1898793.0</td>\n",
       "      <td>2016</td>\n",
       "      <td>05/10/2016 03:56:50 PM</td>\n",
       "      <td>41.877812</td>\n",
       "      <td>-87.655758</td>\n",
       "      <td>(41.877811861, -87.655758012)</td>\n",
       "      <td>5</td>\n",
       "      <td>17</td>\n",
       "      <td>2016</td>\n",
       "    </tr>\n",
       "    <tr>\n",
       "      <th>13</th>\n",
       "      <td>2279</td>\n",
       "      <td>10508724</td>\n",
       "      <td>HZ250513</td>\n",
       "      <td>05/03/2016 09:00:00 AM</td>\n",
       "      <td>028XX S DR MARTIN LUTHER KING JR DR</td>\n",
       "      <td>820</td>\n",
       "      <td>THEFT</td>\n",
       "      <td>$500 AND UNDER</td>\n",
       "      <td>STREET</td>\n",
       "      <td>False</td>\n",
       "      <td>...</td>\n",
       "      <td>1179375.0</td>\n",
       "      <td>1886199.0</td>\n",
       "      <td>2016</td>\n",
       "      <td>05/10/2016 03:56:50 PM</td>\n",
       "      <td>41.843017</td>\n",
       "      <td>-87.617227</td>\n",
       "      <td>(41.843016958, -87.61722727)</td>\n",
       "      <td>5</td>\n",
       "      <td>9</td>\n",
       "      <td>2016</td>\n",
       "    </tr>\n",
       "    <tr>\n",
       "      <th>14</th>\n",
       "      <td>2477</td>\n",
       "      <td>10508728</td>\n",
       "      <td>HZ250505</td>\n",
       "      <td>05/03/2016 10:08:00 PM</td>\n",
       "      <td>016XX N CLAREMONT AVE</td>\n",
       "      <td>810</td>\n",
       "      <td>THEFT</td>\n",
       "      <td>OVER $500</td>\n",
       "      <td>STREET</td>\n",
       "      <td>False</td>\n",
       "      <td>...</td>\n",
       "      <td>1160444.0</td>\n",
       "      <td>1910787.0</td>\n",
       "      <td>2016</td>\n",
       "      <td>05/10/2016 03:56:50 PM</td>\n",
       "      <td>41.910901</td>\n",
       "      <td>-87.686019</td>\n",
       "      <td>(41.910900826, -87.686018747)</td>\n",
       "      <td>5</td>\n",
       "      <td>22</td>\n",
       "      <td>2016</td>\n",
       "    </tr>\n",
       "    <tr>\n",
       "      <th>16</th>\n",
       "      <td>3023</td>\n",
       "      <td>10508738</td>\n",
       "      <td>HZ250440</td>\n",
       "      <td>05/03/2016 09:45:00 PM</td>\n",
       "      <td>020XX W LE MOYNE ST</td>\n",
       "      <td>810</td>\n",
       "      <td>THEFT</td>\n",
       "      <td>OVER $500</td>\n",
       "      <td>STREET</td>\n",
       "      <td>False</td>\n",
       "      <td>...</td>\n",
       "      <td>1162515.0</td>\n",
       "      <td>1909832.0</td>\n",
       "      <td>2016</td>\n",
       "      <td>05/10/2016 03:56:50 PM</td>\n",
       "      <td>41.908237</td>\n",
       "      <td>-87.678437</td>\n",
       "      <td>(41.908237096, -87.678437417)</td>\n",
       "      <td>5</td>\n",
       "      <td>21</td>\n",
       "      <td>2016</td>\n",
       "    </tr>\n",
       "  </tbody>\n",
       "</table>\n",
       "<p>5 rows × 26 columns</p>\n",
       "</div>"
      ],
      "text/plain": [
       "    Unnamed: 0        ID Case Number                    Date  \\\n",
       "4          911  10508699    HZ250455  05/03/2016 10:00:00 PM   \n",
       "12        2193  10508717    HZ250415  05/03/2016 05:30:00 PM   \n",
       "13        2279  10508724    HZ250513  05/03/2016 09:00:00 AM   \n",
       "14        2477  10508728    HZ250505  05/03/2016 10:08:00 PM   \n",
       "16        3023  10508738    HZ250440  05/03/2016 09:45:00 PM   \n",
       "\n",
       "                                  Block IUCR Primary Type     Description  \\\n",
       "4                     003XX N LOTUS AVE  820        THEFT  $500 AND UNDER   \n",
       "12                 011XX W JACKSON BLVD  890        THEFT   FROM BUILDING   \n",
       "13  028XX S DR MARTIN LUTHER KING JR DR  820        THEFT  $500 AND UNDER   \n",
       "14                016XX N CLAREMONT AVE  810        THEFT       OVER $500   \n",
       "16                  020XX W LE MOYNE ST  810        THEFT       OVER $500   \n",
       "\n",
       "   Location Description  Arrest  ...  X Coordinate  Y Coordinate  Year  \\\n",
       "4             RESIDENCE   False  ...     1139890.0     1901675.0  2016   \n",
       "12                OTHER   False  ...     1168776.0     1898793.0  2016   \n",
       "13               STREET   False  ...     1179375.0     1886199.0  2016   \n",
       "14               STREET   False  ...     1160444.0     1910787.0  2016   \n",
       "16               STREET   False  ...     1162515.0     1909832.0  2016   \n",
       "\n",
       "                Updated On   Latitude  Longitude  \\\n",
       "4   05/10/2016 03:56:50 PM  41.886297 -87.761751   \n",
       "12  05/10/2016 03:56:50 PM  41.877812 -87.655758   \n",
       "13  05/10/2016 03:56:50 PM  41.843017 -87.617227   \n",
       "14  05/10/2016 03:56:50 PM  41.910901 -87.686019   \n",
       "16  05/10/2016 03:56:50 PM  41.908237 -87.678437   \n",
       "\n",
       "                         Location  month  hour  year  \n",
       "4   (41.886297242, -87.761750709)      5    22  2016  \n",
       "12  (41.877811861, -87.655758012)      5    17  2016  \n",
       "13   (41.843016958, -87.61722727)      5     9  2016  \n",
       "14  (41.910900826, -87.686018747)      5    22  2016  \n",
       "16  (41.908237096, -87.678437417)      5    21  2016  \n",
       "\n",
       "[5 rows x 26 columns]"
      ]
     },
     "execution_count": 29,
     "metadata": {},
     "output_type": "execute_result"
    }
   ],
   "source": [
    "Theft.head()"
   ]
  },
  {
   "cell_type": "code",
   "execution_count": 30,
   "metadata": {},
   "outputs": [
    {
     "data": {
      "text/plain": [
       "year\n",
       "2012    75438\n",
       "2013    71493\n",
       "2014    61466\n",
       "2015    22815\n",
       "2016     5512\n",
       "dtype: int64"
      ]
     },
     "execution_count": 30,
     "metadata": {},
     "output_type": "execute_result"
    }
   ],
   "source": [
    "Theft.groupby('year').size()"
   ]
  },
  {
   "cell_type": "code",
   "execution_count": null,
   "metadata": {},
   "outputs": [],
   "source": [
    "#数量最少的是 2016年，我们读取的数据时发现2016年数据并不全。"
   ]
  },
  {
   "cell_type": "code",
   "execution_count": 31,
   "metadata": {},
   "outputs": [],
   "source": [
    "#按照年度来看看偷窃犯罪数量的变化趋势。"
   ]
  },
  {
   "cell_type": "code",
   "execution_count": 32,
   "metadata": {},
   "outputs": [
    {
     "data": {
      "text/plain": [
       "<matplotlib.axes._subplots.AxesSubplot at 0x1d854bb81c8>"
      ]
     },
     "execution_count": 32,
     "metadata": {},
     "output_type": "execute_result"
    },
    {
     "data": {
      "image/png": "[encoded data removed]",
      "text/plain": [
       "<Figure size 432x288 with 1 Axes>"
      ]
     },
     "metadata": {
      "needs_background": "light"
     },
     "output_type": "display_data"
    }
   ],
   "source": [
    "Theft.groupby('year').size().plot()"
   ]
  },
  {
   "cell_type": "code",
   "execution_count": 33,
   "metadata": {},
   "outputs": [],
   "source": [
    "#不同月份之间，是否有明显的抢劫犯罪发生数量差别。"
   ]
  },
  {
   "cell_type": "code",
   "execution_count": 34,
   "metadata": {},
   "outputs": [
    {
     "data": {
      "text/plain": [
       "<matplotlib.axes._subplots.AxesSubplot at 0x1d854addfc8>"
      ]
     },
     "execution_count": 34,
     "metadata": {},
     "output_type": "execute_result"
    },
    {
     "data": {
      "image/png": "[encoded data removed]",
      "text/plain": [
       "<Figure size 432x288 with 1 Axes>"
      ]
     },
     "metadata": {
      "needs_background": "light"
     },
     "output_type": "display_data"
    }
   ],
   "source": [
    "Theft.groupby('month').size().plot(kind='bar')"
   ]
  },
  {
   "cell_type": "code",
   "execution_count": 35,
   "metadata": {},
   "outputs": [],
   "source": [
    "#从 2012到 2016年，5月犯罪数量较多，2月好一些。"
   ]
  },
  {
   "cell_type": "code",
   "execution_count": 36,
   "metadata": {},
   "outputs": [],
   "source": [
    "#下面把2014年的月份犯罪记录统计做可视化"
   ]
  },
  {
   "cell_type": "code",
   "execution_count": 39,
   "metadata": {},
   "outputs": [
    {
     "data": {
      "text/plain": [
       "<matplotlib.axes._subplots.AxesSubplot at 0x1d83a6b7108>"
      ]
     },
     "execution_count": 39,
     "metadata": {},
     "output_type": "execute_result"
    },
    {
     "data": {
      "image/png": "[encoded data removed]",
      "text/plain": [
       "<Figure size 432x288 with 1 Axes>"
      ]
     },
     "metadata": {
      "needs_background": "light"
     },
     "output_type": "display_data"
    }
   ],
   "source": [
    "Theft[Theft.year==2014].groupby('month').size().plot(kind='bar')"
   ]
  },
  {
   "cell_type": "code",
   "execution_count": 40,
   "metadata": {},
   "outputs": [],
   "source": [
    "#2014年的2月相对安全，7月份需要注意安全"
   ]
  },
  {
   "cell_type": "code",
   "execution_count": 41,
   "metadata": {},
   "outputs": [],
   "source": [
    "#下面我们来看看，偷窃一般发生在什么时间。"
   ]
  },
  {
   "cell_type": "code",
   "execution_count": 42,
   "metadata": {},
   "outputs": [
    {
     "data": {
      "text/plain": [
       "<matplotlib.axes._subplots.AxesSubplot at 0x1d83a756508>"
      ]
     },
     "execution_count": 42,
     "metadata": {},
     "output_type": "execute_result"
    },
    {
     "data": {
      "image/png": "[encoded data removed]",
      "text/plain": [
       "<Figure size 432x288 with 1 Axes>"
      ]
     },
     "metadata": {
      "needs_background": "light"
     },
     "output_type": "display_data"
    }
   ],
   "source": [
    "Theft.groupby('hour').size().plot(kind='bar')"
   ]
  },
  {
   "cell_type": "code",
   "execution_count": null,
   "metadata": {},
   "outputs": [],
   "source": [
    "#从总体数据上看，早上时发生偷窃的几率比较少，12点过后是偷窃高发时刻"
   ]
  }
 ],
 "metadata": {
  "kernelspec": {
   "display_name": "Python 3",
   "language": "python",
   "name": "python3"
  },
  "language_info": {
   "codemirror_mode": {
    "name": "ipython",
    "version": 3
   },
   "file_extension": ".py",
   "mimetype": "text/x-python",
   "name": "python",
   "nbconvert_exporter": "python",
   "pygments_lexer": "ipython3",
   "version": "3.7.4"
  }
 },
 "nbformat": 4,
 "nbformat_minor": 4
}
