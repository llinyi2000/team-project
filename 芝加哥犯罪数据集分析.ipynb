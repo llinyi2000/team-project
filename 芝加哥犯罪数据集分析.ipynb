{
 "cells": [
  {
   "cell_type": "markdown",
   "metadata": {},
   "source": [
    "***芝加哥犯罪数据集分析***"
   ]
  },
  {
   "cell_type": "markdown",
   "metadata": {},
   "source": [
    "导入需要的库"
   ]
  },
  {
   "cell_type": "code",
   "execution_count": 2,
   "metadata": {},
   "outputs": [
    {
     "name": "stderr",
     "output_type": "stream",
     "text": [
      "C:\\hi\\lib\\site-packages\\sklearn\\externals\\six.py:31: DeprecationWarning: The module is deprecated in version 0.21 and will be removed in version 0.23 since we've dropped support for Python 2.7. Please rely on the official version of six (https://pypi.org/project/six/).\n",
      "  \"(https://pypi.org/project/six/).\", DeprecationWarning)\n",
      "C:\\hi\\lib\\site-packages\\sklearn\\externals\\joblib\\__init__.py:15: DeprecationWarning: sklearn.externals.joblib is deprecated in 0.21 and will be removed in 0.23. Please import this functionality directly from joblib, which can be installed with: pip install joblib. If this warning is raised when loading pickled models, you may need to re-serialize those models with scikit-learn 0.21+.\n",
      "  warnings.warn(msg, category=DeprecationWarning)\n"
     ]
    }
   ],
   "source": [
    "import numpy as np\n",
    "import matplotlib.pyplot as plt\n",
    "import pandas as pd\n",
    "import mglearn \n",
    "from sklearn.model_selection import train_test_split\n",
    "from sklearn.preprocessing import StandardScaler\n",
    "from sklearn.preprocessing import LabelEncoder\n",
    "from sklearn.ensemble import RandomForestClassifier"
   ]
  },
  {
   "cell_type": "markdown",
   "metadata": {},
   "source": [
    " "
   ]
  },
  {
   "cell_type": "markdown",
   "metadata": {},
   "source": [
    "导入芝加哥犯罪数据集"
   ]
  },
  {
   "cell_type": "code",
   "execution_count": 3,
   "metadata": {},
   "outputs": [
    {
     "name": "stdout",
     "output_type": "stream",
     "text": [
      "Unnamed: 0                int64\n",
      "ID                        int64\n",
      "Case Number              object\n",
      "Date                     object\n",
      "Block                    object\n",
      "IUCR                     object\n",
      "Primary Type             object\n",
      "Description              object\n",
      "Location Description     object\n",
      "Arrest                     bool\n",
      "Domestic                   bool\n",
      "Beat                      int64\n",
      "District                float64\n",
      "Ward                    float64\n",
      "Community Area          float64\n",
      "FBI Code                 object\n",
      "X Coordinate            float64\n",
      "Y Coordinate            float64\n",
      "Year                      int64\n",
      "Updated On               object\n",
      "Latitude                float64\n",
      "Longitude               float64\n",
      "Location                 object\n",
      "dtype: object\n",
      "   Unnamed: 0        ID Case Number                    Date  \\\n",
      "0           3  10508693    HZ250496  05/03/2016 11:40:00 PM   \n",
      "1          89  10508695    HZ250409  05/03/2016 09:40:00 PM   \n",
      "2         197  10508697    HZ250503  05/03/2016 11:31:00 PM   \n",
      "3         673  10508698    HZ250424  05/03/2016 10:10:00 PM   \n",
      "4         911  10508699    HZ250455  05/03/2016 10:00:00 PM   \n",
      "\n",
      "                 Block  IUCR            Primary Type              Description  \\\n",
      "0   013XX S SAWYER AVE  0486                 BATTERY  DOMESTIC BATTERY SIMPLE   \n",
      "1   061XX S DREXEL AVE  0486                 BATTERY  DOMESTIC BATTERY SIMPLE   \n",
      "2  053XX W CHICAGO AVE  0470  PUBLIC PEACE VIOLATION         RECKLESS CONDUCT   \n",
      "3    049XX W FULTON ST  0460                 BATTERY                   SIMPLE   \n",
      "4    003XX N LOTUS AVE  0820                   THEFT           $500 AND UNDER   \n",
      "\n",
      "  Location Description  Arrest  ...  Ward  Community Area  FBI Code  \\\n",
      "0            APARTMENT    True  ...  24.0            29.0       08B   \n",
      "1            RESIDENCE   False  ...  20.0            42.0       08B   \n",
      "2               STREET   False  ...  37.0            25.0        24   \n",
      "3             SIDEWALK   False  ...  28.0            25.0       08B   \n",
      "4            RESIDENCE   False  ...  28.0            25.0        06   \n",
      "\n",
      "   X Coordinate  Y Coordinate  Year              Updated On   Latitude  \\\n",
      "0     1154907.0     1893681.0  2016  05/10/2016 03:56:50 PM  41.864073   \n",
      "1     1183066.0     1864330.0  2016  05/10/2016 03:56:50 PM  41.782922   \n",
      "2     1140789.0     1904819.0  2016  05/10/2016 03:56:50 PM  41.894908   \n",
      "3     1143223.0     1901475.0  2016  05/10/2016 03:56:50 PM  41.885687   \n",
      "4     1139890.0     1901675.0  2016  05/10/2016 03:56:50 PM  41.886297   \n",
      "\n",
      "   Longitude                       Location  \n",
      "0 -87.706819  (41.864073157, -87.706818608)  \n",
      "1 -87.604363   (41.782921527, -87.60436317)  \n",
      "2 -87.758372  (41.894908283, -87.758371958)  \n",
      "3 -87.749516  (41.885686845, -87.749515983)  \n",
      "4 -87.761751  (41.886297242, -87.761750709)  \n",
      "\n",
      "[5 rows x 23 columns]\n"
     ]
    }
   ],
   "source": [
    "data=pd.read_csv('./Chicago_Crimes_2012_to_2017.csv')#导入芝加哥2012-2016年犯罪数据集\n",
    "df=pd.DataFrame(data)\n",
    "print(data.dtypes)#列出数据标题及相对应的类型\n",
    "print(df.head())#列出数据的前几行"
   ]
  },
  {
   "cell_type": "markdown",
   "metadata": {},
   "source": [
    "  "
   ]
  },
  {
   "cell_type": "markdown",
   "metadata": {},
   "source": [
    "数据清洗，处理丢失和无用的数据"
   ]
  },
  {
   "cell_type": "code",
   "execution_count": 4,
   "metadata": {},
   "outputs": [
    {
     "name": "stdout",
     "output_type": "stream",
     "text": [
      "         Unnamed: 0        ID Case Number                    Date  \\\n",
      "0                 3  10508693    HZ250496  05/03/2016 11:40:00 PM   \n",
      "1                89  10508695    HZ250409  05/03/2016 09:40:00 PM   \n",
      "2               197  10508697    HZ250503  05/03/2016 11:31:00 PM   \n",
      "3               673  10508698    HZ250424  05/03/2016 10:10:00 PM   \n",
      "4               911  10508699    HZ250455  05/03/2016 10:00:00 PM   \n",
      "...             ...       ...         ...                     ...   \n",
      "1456709     6250330  10508679    HZ250507  05/03/2016 11:33:00 PM   \n",
      "1456710     6251089  10508680    HZ250491  05/03/2016 11:30:00 PM   \n",
      "1456711     6251349  10508681    HZ250479  05/03/2016 12:15:00 AM   \n",
      "1456712     6253257  10508690    HZ250370  05/03/2016 09:07:00 PM   \n",
      "1456713     6253474  10508692    HZ250517  05/03/2016 11:38:00 PM   \n",
      "\n",
      "                        Block  IUCR            Primary Type  \\\n",
      "0          013XX S SAWYER AVE  0486                 BATTERY   \n",
      "1          061XX S DREXEL AVE  0486                 BATTERY   \n",
      "2         053XX W CHICAGO AVE  0470  PUBLIC PEACE VIOLATION   \n",
      "3           049XX W FULTON ST  0460                 BATTERY   \n",
      "4           003XX N LOTUS AVE  0820                   THEFT   \n",
      "...                       ...   ...                     ...   \n",
      "1456709       026XX W 23RD PL  0486                 BATTERY   \n",
      "1456710   073XX S HARVARD AVE  1310         CRIMINAL DAMAGE   \n",
      "1456711       024XX W 63RD ST  041A                 BATTERY   \n",
      "1456712  082XX S EXCHANGE AVE  0486                 BATTERY   \n",
      "1456713       001XX E 75TH ST  5007           OTHER OFFENSE   \n",
      "\n",
      "                     Description            Location Description  Arrest  ...  \\\n",
      "0        DOMESTIC BATTERY SIMPLE                       APARTMENT    True  ...   \n",
      "1        DOMESTIC BATTERY SIMPLE                       RESIDENCE   False  ...   \n",
      "2               RECKLESS CONDUCT                          STREET   False  ...   \n",
      "3                         SIMPLE                        SIDEWALK   False  ...   \n",
      "4                 $500 AND UNDER                       RESIDENCE   False  ...   \n",
      "...                          ...                             ...     ...  ...   \n",
      "1456709  DOMESTIC BATTERY SIMPLE                       APARTMENT    True  ...   \n",
      "1456710              TO PROPERTY                       APARTMENT    True  ...   \n",
      "1456711      AGGRAVATED: HANDGUN                        SIDEWALK   False  ...   \n",
      "1456712  DOMESTIC BATTERY SIMPLE                        SIDEWALK   False  ...   \n",
      "1456713  OTHER WEAPONS VIOLATION  PARKING LOT/GARAGE(NON.RESID.)    True  ...   \n",
      "\n",
      "         Ward  Community Area  FBI Code  X Coordinate  Y Coordinate  Year  \\\n",
      "0        24.0            29.0       08B     1154907.0     1893681.0  2016   \n",
      "1        20.0            42.0       08B     1183066.0     1864330.0  2016   \n",
      "2        37.0            25.0        24     1140789.0     1904819.0  2016   \n",
      "3        28.0            25.0       08B     1143223.0     1901475.0  2016   \n",
      "4        28.0            25.0        06     1139890.0     1901675.0  2016   \n",
      "...       ...             ...       ...           ...           ...   ...   \n",
      "1456709  28.0            30.0       08B     1159105.0     1888300.0  2016   \n",
      "1456710  17.0            69.0        14     1175230.0     1856183.0  2016   \n",
      "1456711  15.0            66.0       04B     1161027.0     1862810.0  2016   \n",
      "1456712   7.0            46.0       08B     1197261.0     1850727.0  2016   \n",
      "1456713   6.0            69.0        26     1178696.0     1855324.0  2016   \n",
      "\n",
      "                     Updated On   Latitude  Longitude  \\\n",
      "0        05/10/2016 03:56:50 PM  41.864073 -87.706819   \n",
      "1        05/10/2016 03:56:50 PM  41.782922 -87.604363   \n",
      "2        05/10/2016 03:56:50 PM  41.894908 -87.758372   \n",
      "3        05/10/2016 03:56:50 PM  41.885687 -87.749516   \n",
      "4        05/10/2016 03:56:50 PM  41.886297 -87.761751   \n",
      "...                         ...        ...        ...   \n",
      "1456709  05/10/2016 03:56:50 PM  41.849222 -87.691556   \n",
      "1456710  05/10/2016 03:56:50 PM  41.760744 -87.633335   \n",
      "1456711  05/10/2016 03:56:50 PM  41.779235 -87.685207   \n",
      "1456712  05/10/2016 03:56:50 PM  41.745252 -87.552773   \n",
      "1456713  05/10/2016 03:56:50 PM  41.758309 -87.620658   \n",
      "\n",
      "                              Location  \n",
      "0        (41.864073157, -87.706818608)  \n",
      "1         (41.782921527, -87.60436317)  \n",
      "2        (41.894908283, -87.758371958)  \n",
      "3        (41.885686845, -87.749515983)  \n",
      "4        (41.886297242, -87.761750709)  \n",
      "...                                ...  \n",
      "1456709   (41.849222028, -87.69155551)  \n",
      "1456710   (41.760743949, -87.63333531)  \n",
      "1456711  (41.779234743, -87.685207125)  \n",
      "1456712  (41.745251975, -87.552773464)  \n",
      "1456713   (41.75830866, -87.620658418)  \n",
      "\n",
      "[1418365 rows x 23 columns]\n"
     ]
    }
   ],
   "source": [
    "df.dropna(axis=0,how='any',inplace=True)#如果有出现一个缺失的值，将缺失的值所在行进行删除\n",
    "print(df)"
   ]
  },
  {
   "cell_type": "code",
   "execution_count": 5,
   "metadata": {},
   "outputs": [
    {
     "name": "stdout",
     "output_type": "stream",
     "text": [
      "         Unnamed: 0                    Date                 Block  IUCR  \\\n",
      "0                 3  05/03/2016 11:40:00 PM    013XX S SAWYER AVE  0486   \n",
      "1                89  05/03/2016 09:40:00 PM    061XX S DREXEL AVE  0486   \n",
      "2               197  05/03/2016 11:31:00 PM   053XX W CHICAGO AVE  0470   \n",
      "3               673  05/03/2016 10:10:00 PM     049XX W FULTON ST  0460   \n",
      "4               911  05/03/2016 10:00:00 PM     003XX N LOTUS AVE  0820   \n",
      "...             ...                     ...                   ...   ...   \n",
      "1456709     6250330  05/03/2016 11:33:00 PM       026XX W 23RD PL  0486   \n",
      "1456710     6251089  05/03/2016 11:30:00 PM   073XX S HARVARD AVE  1310   \n",
      "1456711     6251349  05/03/2016 12:15:00 AM       024XX W 63RD ST  041A   \n",
      "1456712     6253257  05/03/2016 09:07:00 PM  082XX S EXCHANGE AVE  0486   \n",
      "1456713     6253474  05/03/2016 11:38:00 PM       001XX E 75TH ST  5007   \n",
      "\n",
      "                   Primary Type              Description  \\\n",
      "0                       BATTERY  DOMESTIC BATTERY SIMPLE   \n",
      "1                       BATTERY  DOMESTIC BATTERY SIMPLE   \n",
      "2        PUBLIC PEACE VIOLATION         RECKLESS CONDUCT   \n",
      "3                       BATTERY                   SIMPLE   \n",
      "4                         THEFT           $500 AND UNDER   \n",
      "...                         ...                      ...   \n",
      "1456709                 BATTERY  DOMESTIC BATTERY SIMPLE   \n",
      "1456710         CRIMINAL DAMAGE              TO PROPERTY   \n",
      "1456711                 BATTERY      AGGRAVATED: HANDGUN   \n",
      "1456712                 BATTERY  DOMESTIC BATTERY SIMPLE   \n",
      "1456713           OTHER OFFENSE  OTHER WEAPONS VIOLATION   \n",
      "\n",
      "                   Location Description  Arrest  Domestic  Beat  District  \\\n",
      "0                             APARTMENT    True      True  1022      10.0   \n",
      "1                             RESIDENCE   False      True   313       3.0   \n",
      "2                                STREET   False     False  1524      15.0   \n",
      "3                              SIDEWALK   False     False  1532      15.0   \n",
      "4                             RESIDENCE   False      True  1523      15.0   \n",
      "...                                 ...     ...       ...   ...       ...   \n",
      "1456709                       APARTMENT    True      True  1034      10.0   \n",
      "1456710                       APARTMENT    True      True   731       7.0   \n",
      "1456711                        SIDEWALK   False     False   825       8.0   \n",
      "1456712                        SIDEWALK   False      True   423       4.0   \n",
      "1456713  PARKING LOT/GARAGE(NON.RESID.)    True     False   323       3.0   \n",
      "\n",
      "         Ward  Community Area  Year   Latitude  Longitude  \n",
      "0        24.0            29.0  2016  41.864073 -87.706819  \n",
      "1        20.0            42.0  2016  41.782922 -87.604363  \n",
      "2        37.0            25.0  2016  41.894908 -87.758372  \n",
      "3        28.0            25.0  2016  41.885687 -87.749516  \n",
      "4        28.0            25.0  2016  41.886297 -87.761751  \n",
      "...       ...             ...   ...        ...        ...  \n",
      "1456709  28.0            30.0  2016  41.849222 -87.691556  \n",
      "1456710  17.0            69.0  2016  41.760744 -87.633335  \n",
      "1456711  15.0            66.0  2016  41.779235 -87.685207  \n",
      "1456712   7.0            46.0  2016  41.745252 -87.552773  \n",
      "1456713   6.0            69.0  2016  41.758309 -87.620658  \n",
      "\n",
      "[1418365 rows x 16 columns]\n"
     ]
    }
   ],
   "source": [
    "#由于Location和Latitude、Longitude是重复的，Case Number、Updated On、ID、FBI Code数据是无用的,X坐标和Y坐标可以通过经纬度转换，将其drop掉\n",
    "dat=df.drop(['Location','Case Number','Updated On','X Coordinate','Y Coordinate','ID','FBI Code'],axis=1)\n",
    "print(dat)"
   ]
  },
  {
   "cell_type": "markdown",
   "metadata": {},
   "source": [
    "  "
   ]
  },
  {
   "cell_type": "markdown",
   "metadata": {},
   "source": [
    "数据预处理"
   ]
  },
  {
   "cell_type": "code",
   "execution_count": 6,
   "metadata": {},
   "outputs": [
    {
     "name": "stdout",
     "output_type": "stream",
     "text": [
      "0           2\n",
      "1           2\n",
      "2          27\n",
      "3           2\n",
      "4          31\n",
      "           ..\n",
      "1456709     2\n",
      "1456710     6\n",
      "1456711     2\n",
      "1456712     2\n",
      "1456713    24\n",
      "Name: Primary Type, Length: 1418365, dtype: int32 0           51\n",
      "1           51\n",
      "2           42\n",
      "3           39\n",
      "4           84\n",
      "          ... \n",
      "1456709     51\n",
      "1456710    151\n",
      "1456711     30\n",
      "1456712     51\n",
      "1456713    339\n",
      "Name: IUCR, Length: 1418365, dtype: int32 0          119\n",
      "1          119\n",
      "2          264\n",
      "3          282\n",
      "4            0\n",
      "          ... \n",
      "1456709    119\n",
      "1456710    305\n",
      "1456711     32\n",
      "1456712    119\n",
      "1456713    224\n",
      "Name: Description, Length: 1418365, dtype: int32 0           17\n",
      "1          109\n",
      "2          125\n",
      "3          121\n",
      "4          109\n",
      "          ... \n",
      "1456709     17\n",
      "1456710     17\n",
      "1456711    121\n",
      "1456712    121\n",
      "1456713    101\n",
      "Name: Location Description, Length: 1418365, dtype: int32\n"
     ]
    }
   ],
   "source": [
    "#对IUCR、Description、Location Description进行label编码\n",
    "le = LabelEncoder()\n",
    "le.fit(dat['Primary Type'])\n",
    "dat['Primary Type']=le.transform(dat['Primary Type'])\n",
    "y=dat['Primary Type']\n",
    "\n",
    "le.fit(dat['IUCR'])\n",
    "dat['IUCR']=le.transform(dat['IUCR'])\n",
    "\n",
    "le.fit(dat[\"Description\"])\n",
    "dat['Description']=le.transform(dat['Description'])\n",
    "\n",
    "le.fit(dat['Location Description'])\n",
    "dat['Location Description']=le.transform(dat['Location Description'])\n",
    "\n",
    "print(dat['Primary Type'],dat['IUCR'],dat['Description'],dat['Location Description'])\n",
    "\n",
    "dat=dat.drop(['Primary Type'],axis=1)#Primary Type作为target，将其drop掉"
   ]
  },
  {
   "cell_type": "code",
   "execution_count": 7,
   "metadata": {},
   "outputs": [],
   "source": [
    "#日期转为时间相关的属性\n",
    "df['Date'] = pd.to_datetime(df['Date'])\n",
    "dat['Date'] =df['Date'].dt.date\n",
    "dat['Week']=df['Date'].dt.week\n",
    "dat['Day'] = df['Date'].dt.day\n",
    "dat['Year'] = df['Date'].dt.year\n",
    "dat['Month'] = df['Date'].dt.month\n",
    "dat['Hour'] = df['Date'].dt.hour\n",
    "dat=dat.drop(['Date'],axis=1)"
   ]
  },
  {
   "cell_type": "code",
   "execution_count": 8,
   "metadata": {},
   "outputs": [],
   "source": [
    "#使用正则表达式对Block进行数据转化\n",
    "regex = r\"\\d+XX\\s(?P<street>.*)\"\n",
    "subst = \"\\\\g<street>\"\n",
    "dat['street'] = dat.Block.str.replace(regex, subst)\n",
    "le.fit(dat['street'])\n",
    "dat['street']=le.transform(dat['street'])\n",
    "dat=dat.drop(['Block'],axis=1)"
   ]
  },
  {
   "cell_type": "code",
   "execution_count": 9,
   "metadata": {},
   "outputs": [
    {
     "name": "stdout",
     "output_type": "stream",
     "text": [
      "         Unnamed: 0  IUCR  Description  Location Description  Arrest  \\\n",
      "0                 3    51          119                    17    True   \n",
      "1                89    51          119                   109   False   \n",
      "2               197    42          264                   125   False   \n",
      "3               673    39          282                   121   False   \n",
      "4               911    84            0                   109   False   \n",
      "...             ...   ...          ...                   ...     ...   \n",
      "1456709     6250330    51          119                    17    True   \n",
      "1456710     6251089   151          305                    17    True   \n",
      "1456711     6251349    30           32                   121   False   \n",
      "1456712     6253257    51          119                   121   False   \n",
      "1456713     6253474   339          224                   101    True   \n",
      "\n",
      "         Domestic  Beat  District  Ward  Community Area  Year   Latitude  \\\n",
      "0            True  1022      10.0  24.0            29.0  2016  41.864073   \n",
      "1            True   313       3.0  20.0            42.0  2016  41.782922   \n",
      "2           False  1524      15.0  37.0            25.0  2016  41.894908   \n",
      "3           False  1532      15.0  28.0            25.0  2016  41.885687   \n",
      "4            True  1523      15.0  28.0            25.0  2016  41.886297   \n",
      "...           ...   ...       ...   ...             ...   ...        ...   \n",
      "1456709      True  1034      10.0  28.0            30.0  2016  41.849222   \n",
      "1456710      True   731       7.0  17.0            69.0  2016  41.760744   \n",
      "1456711     False   825       8.0  15.0            66.0  2016  41.779235   \n",
      "1456712      True   423       4.0   7.0            46.0  2016  41.745252   \n",
      "1456713     False   323       3.0   6.0            69.0  2016  41.758309   \n",
      "\n",
      "         Longitude  Week  Day  Month  Hour  street  \n",
      "0       -87.706819    18    3      5    23    2076  \n",
      "1       -87.604363    18    3      5    21    1771  \n",
      "2       -87.758372    18    3      5    23    2478  \n",
      "3       -87.749516    18    3      5    22    2583  \n",
      "4       -87.761751    18    3      5    22    1305  \n",
      "...            ...   ...  ...    ...   ...     ...  \n",
      "1456709 -87.691556    18    3      5    23    2230  \n",
      "1456710 -87.633335    18    3      5    23    1844  \n",
      "1456711 -87.685207    18    3      5     0    2319  \n",
      "1456712 -87.552773    18    3      5    21    1802  \n",
      "1456713 -87.620658    18    3      5    23     879  \n",
      "\n",
      "[1418365 rows x 18 columns]\n",
      "Unnamed: 0                int64\n",
      "IUCR                      int32\n",
      "Description               int32\n",
      "Location Description      int32\n",
      "Arrest                     bool\n",
      "Domestic                   bool\n",
      "Beat                      int64\n",
      "District                float64\n",
      "Ward                    float64\n",
      "Community Area          float64\n",
      "Year                      int64\n",
      "Latitude                float64\n",
      "Longitude               float64\n",
      "Week                      int64\n",
      "Day                       int64\n",
      "Month                     int64\n",
      "Hour                      int64\n",
      "street                    int32\n",
      "dtype: object\n"
     ]
    }
   ],
   "source": [
    "print(dat)\n",
    "print(dat.dtypes)"
   ]
  },
  {
   "cell_type": "markdown",
   "metadata": {},
   "source": [
    "  "
   ]
  },
  {
   "cell_type": "markdown",
   "metadata": {},
   "source": [
    "应用PCA进行降维，用StandardScaler缩放数据"
   ]
  },
  {
   "cell_type": "code",
   "execution_count": 10,
   "metadata": {},
   "outputs": [
    {
     "name": "stdout",
     "output_type": "stream",
     "text": [
      "         Latitude  Longitude\n",
      "0       -0.032769   0.025198\n",
      "1        0.077609  -0.044797\n",
      "2       -0.078869   0.063712\n",
      "3       -0.067245   0.058389\n",
      "4       -0.071852   0.069739\n",
      "...           ...        ...\n",
      "1456709 -0.013718   0.015680\n",
      "1456710  0.089002  -0.010136\n",
      "1456711  0.054452   0.032747\n",
      "1456712  0.130174  -0.081094\n",
      "1456713  0.095478  -0.021302\n",
      "\n",
      "[1418365 rows x 2 columns]\n"
     ]
    }
   ],
   "source": [
    "#对经纬度进行PCA降维\n",
    "from sklearn.decomposition import PCA\n",
    "pca = PCA(n_components=2)\n",
    "pca.fit(dat[['Latitude','Longitude']])\n",
    "dat[['Latitude','Longitude']] = pca.transform(dat[['Latitude','Longitude']])\n",
    "print(dat[['Latitude','Longitude']])"
   ]
  },
  {
   "cell_type": "code",
   "execution_count": 11,
   "metadata": {
    "scrolled": true
   },
   "outputs": [],
   "source": [
    "scaler =StandardScaler()\n",
    "scaler.fit(dat)\n",
    "X_scaled=scaler.transform(dat)"
   ]
  },
  {
   "cell_type": "markdown",
   "metadata": {},
   "source": [
    "测试集与训练集、验证集的划分"
   ]
  },
  {
   "cell_type": "code",
   "execution_count": 12,
   "metadata": {},
   "outputs": [],
   "source": [
    "X_trainval,X_test,y_trainval,y_test=train_test_split(\n",
    "                                                     X_scaled,y,test_size=0.3,random_state=42)\n",
    "X_train,X_valid,y_train,y_valid=train_test_split(\n",
    "                                                 X_trainval,y_trainval,random_state=40)"
   ]
  },
  {
   "cell_type": "markdown",
   "metadata": {},
   "source": [
    "  "
   ]
  },
  {
   "cell_type": "markdown",
   "metadata": {},
   "source": [
    "利用特征工程进行特征的选择"
   ]
  },
  {
   "cell_type": "code",
   "execution_count": 12,
   "metadata": {},
   "outputs": [],
   "source": [
    "from sklearn.feature_selection import SelectFromModel\n",
    "from sklearn.ensemble import RandomForestClassifier\n",
    "from sklearn.linear_model import LogisticRegression\n",
    "select = SelectFromModel(\n",
    "    RandomForestClassifier(n_estimators=100, random_state=42),\n",
    "    threshold=\"median\")"
   ]
  },
  {
   "cell_type": "code",
   "execution_count": 13,
   "metadata": {},
   "outputs": [
    {
     "name": "stdout",
     "output_type": "stream",
     "text": [
      "X_train.shape: (744641, 18)\n",
      "X_train_l1.shape: (744641, 9)\n"
     ]
    }
   ],
   "source": [
    "select.fit(X_train, y_train)\n",
    "X_train_l1 = select.transform(X_train)\n",
    "print(\"X_train.shape: {}\".format(X_train.shape))\n",
    "print(\"X_train_l1.shape: {}\".format(X_train_l1.shape))\n",
    "X_test_l1 = select.transform(X_test)"
   ]
  },
  {
   "cell_type": "markdown",
   "metadata": {},
   "source": [
    "  "
   ]
  },
  {
   "cell_type": "markdown",
   "metadata": {},
   "source": [
    "建立模型，选择最好的模型并进行调参"
   ]
  },
  {
   "cell_type": "code",
   "execution_count": 14,
   "metadata": {},
   "outputs": [
    {
     "name": "stdout",
     "output_type": "stream",
     "text": [
      "Test score: 0.65\n",
      "Test score: 0.652\n"
     ]
    }
   ],
   "source": [
    "#逻辑回归建立模型\n",
    "from sklearn.linear_model import LogisticRegression\n",
    "logreg = LogisticRegression(max_iter=10000,multi_class='ovr',solver='lbfgs')\n",
    "logreg.fit(X_train,y_train)\n",
    "print(\"Test score: {:.2f}\".format(logreg.score(X_test,y_test)))\n",
    "score =logreg.fit(X_train_l1, y_train).score(X_test_l1, y_test)\n",
    "print(\"Test score: {:.3f}\".format(score))"
   ]
  },
  {
   "cell_type": "code",
   "execution_count": 15,
   "metadata": {},
   "outputs": [
    {
     "name": "stdout",
     "output_type": "stream",
     "text": [
      "Test score: 0.88\n"
     ]
    }
   ],
   "source": [
    "#用决策树建立模型\n",
    "from sklearn.tree import DecisionTreeClassifier\n",
    "model1 = DecisionTreeClassifier(max_depth=4,random_state=0)   \n",
    "model1.fit(X_train_l1,y_train)\n",
    "print(\"Test score: {:.2f}\".format(model1.score(X_test_l1,y_test)))"
   ]
  },
  {
   "cell_type": "code",
   "execution_count": 16,
   "metadata": {},
   "outputs": [
    {
     "name": "stdout",
     "output_type": "stream",
     "text": [
      "Test score: 1.00\n"
     ]
    }
   ],
   "source": [
    "#用随机森林建立模型\n",
    "from sklearn.ensemble import RandomForestClassifier  \n",
    "model2 = RandomForestClassifier(n_estimators=4,max_features='sqrt')  \n",
    "model2.fit(X_train_l1,y_train)\n",
    "print(\"Test score: {:.2f}\".format(model2.score(X_test_l1,y_test)))"
   ]
  },
  {
   "cell_type": "code",
   "execution_count": 17,
   "metadata": {},
   "outputs": [
    {
     "name": "stdout",
     "output_type": "stream",
     "text": [
      "Test score: 0.98\n"
     ]
    }
   ],
   "source": [
    "#用SVC建立模型\n",
    "from sklearn.svm import SVC  \n",
    "model3 = SVC(max_iter=100000,gamma='auto')  #SVM\n",
    "model3.fit(X_train_l1,y_train)\n",
    "print(\"Test score: {:.2f}\".format(model3.score(X_test_l1,y_test)))"
   ]
  },
  {
   "cell_type": "markdown",
   "metadata": {},
   "source": [
    "经过比较，发现决策树和随机森林模型最好，由于随机森林的内推性很好，容易处于过拟合的状态，无法外推，在下面的模型评估中，我们决定采用SVC来进行模型评估"
   ]
  },
  {
   "cell_type": "markdown",
   "metadata": {},
   "source": [
    "模型评估"
   ]
  },
  {
   "cell_type": "code",
   "execution_count": null,
   "metadata": {},
   "outputs": [
    {
     "name": "stdout",
     "output_type": "stream",
     "text": [
      "Size of training set: 1063773   size of test set: 354592\n"
     ]
    }
   ],
   "source": [
    "from sklearn.svm import SVC\n",
    "X_train, X_test, y_train, y_test = train_test_split(\n",
    "   dat,y, random_state=0)\n",
    "print(\"Size of training set: {}   size of test set: {}\".format(\n",
    "      X_train.shape[0], X_test.shape[0]))\n",
    "\n",
    "best_score = 0\n",
    "\n",
    "for gamma in [0.001, 0.01, 0.1, 1, 10, 100]:\n",
    "    for C in [0.001, 0.01, 0.1, 1, 10, 100]:\n",
    "       \n",
    "        svm = SVC(gamma=gamma, C=C)\n",
    "        svm.fit(X_train, y_train)\n",
    "        \n",
    "        score = svm.score(X_test, y_test)\n",
    "        \n",
    "        if score > best_score:\n",
    "            best_score = score\n",
    "            best_parameters = {'C': C, 'gamma': gamma}\n",
    "\n",
    "print(\"Best score: {:.2f}\".format(best_score))\n",
    "print(\"Best parameters: {}\".format(best_parameters))"
   ]
  },
  {
   "cell_type": "code",
   "execution_count": null,
   "metadata": {},
   "outputs": [],
   "source": [
    "from sklearn.metrics import accuracy_score\n",
    "from sklearn.metrics import confusion_matrix\n",
    "from sklearn.svm import SVC\n",
    "lr = SVC(gamma='auto').fit(X_train, y_train)\n",
    "pred = lr.predict(X_test)\n",
    "print(\"Accuracy: {:.3f}\".format(accuracy_score(y_test, pred)))\n",
    "print(\"Confusion matrix:\\n{}\".format(confusion_matrix(y_test, pred)))"
   ]
  },
  {
   "cell_type": "code",
   "execution_count": null,
   "metadata": {},
   "outputs": [],
   "source": [
    "print(classification_report(y_test, pred))"
   ]
  },
  {
   "cell_type": "code",
   "execution_count": null,
   "metadata": {},
   "outputs": [],
   "source": []
  }
 ],
 "metadata": {
  "kernelspec": {
   "display_name": "Python 3",
   "language": "python",
   "name": "python3"
  },
  "language_info": {
   "codemirror_mode": {
    "name": "ipython",
    "version": 3
   },
   "file_extension": ".py",
   "mimetype": "text/x-python",
   "name": "python",
   "nbconvert_exporter": "python",
   "pygments_lexer": "ipython3",
   "version": "3.7.4"
  }
 },
 "nbformat": 4,
 "nbformat_minor": 2
}
